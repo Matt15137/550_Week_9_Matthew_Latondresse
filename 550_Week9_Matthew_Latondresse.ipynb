{
 "cells": [
  {
   "cell_type": "code",
   "execution_count": 25,
   "id": "655c313a",
   "metadata": {},
   "outputs": [],
   "source": [
    "import pandas as pd\n",
    "from sklearn.model_selection import train_test_split\n",
    "from sklearn.preprocessing import MinMaxScaler\n",
    "from sklearn.neighbors import KNeighborsClassifier\n",
    "from sklearn.linear_model import LogisticRegression\n",
    "from sklearn.ensemble import RandomForestClassifier\n",
    "from sklearn.model_selection import GridSearchCV\n",
    "from sklearn.metrics import accuracy_score\n",
    "from sklearn.preprocessing import OneHotEncoder\n",
    "from sklearn.compose import ColumnTransformer\n",
    "from sklearn.pipeline import Pipeline"
   ]
  },
  {
   "cell_type": "code",
   "execution_count": 26,
   "id": "ed1f30b2",
   "metadata": {},
   "outputs": [
    {
     "name": "stdout",
     "output_type": "stream",
     "text": [
      "    Loan_ID Gender Married Dependents     Education Self_Employed  \\\n",
      "0  LP001002   Male      No          0      Graduate            No   \n",
      "1  LP001003   Male     Yes          1      Graduate            No   \n",
      "2  LP001005   Male     Yes          0      Graduate           Yes   \n",
      "3  LP001006   Male     Yes          0  Not Graduate            No   \n",
      "4  LP001008   Male      No          0      Graduate            No   \n",
      "\n",
      "   ApplicantIncome  CoapplicantIncome  LoanAmount  Loan_Amount_Term  \\\n",
      "0             5849                0.0         NaN             360.0   \n",
      "1             4583             1508.0       128.0             360.0   \n",
      "2             3000                0.0        66.0             360.0   \n",
      "3             2583             2358.0       120.0             360.0   \n",
      "4             6000                0.0       141.0             360.0   \n",
      "\n",
      "   Credit_History Property_Area Loan_Status  \n",
      "0             1.0         Urban           Y  \n",
      "1             1.0         Rural           N  \n",
      "2             1.0         Urban           Y  \n",
      "3             1.0         Urban           Y  \n",
      "4             1.0         Urban           Y  \n"
     ]
    }
   ],
   "source": [
    "# Step 1: Import the dataset\n",
    "data = pd.read_csv(\"C:/Users/mattl/OneDrive/Documents/GitHub/DSC550/Loan_Train.csv\")\n",
    "print(data.head())"
   ]
  },
  {
   "cell_type": "code",
   "execution_count": 27,
   "id": "7cabe352",
   "metadata": {},
   "outputs": [
    {
     "name": "stdout",
     "output_type": "stream",
     "text": [
      "  Gender Married Dependents     Education Self_Employed  ApplicantIncome  \\\n",
      "1   Male     Yes          1      Graduate            No             4583   \n",
      "2   Male     Yes          0      Graduate           Yes             3000   \n",
      "3   Male     Yes          0  Not Graduate            No             2583   \n",
      "4   Male      No          0      Graduate            No             6000   \n",
      "5   Male     Yes          2      Graduate           Yes             5417   \n",
      "\n",
      "   CoapplicantIncome  LoanAmount  Loan_Amount_Term  Credit_History  \\\n",
      "1             1508.0       128.0             360.0             1.0   \n",
      "2                0.0        66.0             360.0             1.0   \n",
      "3             2358.0       120.0             360.0             1.0   \n",
      "4                0.0       141.0             360.0             1.0   \n",
      "5             4196.0       267.0             360.0             1.0   \n",
      "\n",
      "  Property_Area Loan_Status  \n",
      "1         Rural           N  \n",
      "2         Urban           Y  \n",
      "3         Urban           Y  \n",
      "4         Urban           Y  \n",
      "5         Urban           Y  \n"
     ]
    }
   ],
   "source": [
    "# Step 2: Data Preprocessing\n",
    "data = data.drop(columns=[\"Loan_ID\"])\n",
    "data = data.dropna()\n",
    "print(data.head())"
   ]
  },
  {
   "cell_type": "code",
   "execution_count": 28,
   "id": "1d661740",
   "metadata": {},
   "outputs": [
    {
     "name": "stdout",
     "output_type": "stream",
     "text": [
      "   cat__Gender_Male  cat__Married_Yes  cat__Dependents_1  cat__Dependents_2  \\\n",
      "0               1.0               1.0                1.0                0.0   \n",
      "1               1.0               1.0                0.0                0.0   \n",
      "2               1.0               1.0                0.0                0.0   \n",
      "3               1.0               0.0                0.0                0.0   \n",
      "4               1.0               1.0                0.0                1.0   \n",
      "\n",
      "   cat__Dependents_3+  cat__Education_Not Graduate  cat__Self_Employed_Yes  \\\n",
      "0                 0.0                          0.0                     0.0   \n",
      "1                 0.0                          0.0                     1.0   \n",
      "2                 0.0                          1.0                     0.0   \n",
      "3                 0.0                          0.0                     0.0   \n",
      "4                 0.0                          0.0                     1.0   \n",
      "\n",
      "   cat__Property_Area_Semiurban  cat__Property_Area_Urban  \\\n",
      "0                           0.0                       0.0   \n",
      "1                           0.0                       1.0   \n",
      "2                           0.0                       1.0   \n",
      "3                           0.0                       1.0   \n",
      "4                           0.0                       1.0   \n",
      "\n",
      "   remainder__ApplicantIncome  remainder__CoapplicantIncome  \\\n",
      "0                      4583.0                        1508.0   \n",
      "1                      3000.0                           0.0   \n",
      "2                      2583.0                        2358.0   \n",
      "3                      6000.0                           0.0   \n",
      "4                      5417.0                        4196.0   \n",
      "\n",
      "   remainder__LoanAmount  remainder__Loan_Amount_Term  \\\n",
      "0                  128.0                        360.0   \n",
      "1                   66.0                        360.0   \n",
      "2                  120.0                        360.0   \n",
      "3                  141.0                        360.0   \n",
      "4                  267.0                        360.0   \n",
      "\n",
      "   remainder__Credit_History  \n",
      "0                        1.0  \n",
      "1                        1.0  \n",
      "2                        1.0  \n",
      "3                        1.0  \n",
      "4                        1.0  \n"
     ]
    }
   ],
   "source": [
    "# Step 3: Convert categorical features into dummy variables\n",
    "y = data[\"Loan_Status\"]\n",
    "data = data.drop(columns=[\"Loan_Status\"])\n",
    "\n",
    "categorical_cols = data.select_dtypes(include=['object']).columns\n",
    "preprocessor = ColumnTransformer(\n",
    "    transformers=[\n",
    "        ('cat', OneHotEncoder(drop='first'), categorical_cols)\n",
    "    ],\n",
    "    remainder='passthrough'\n",
    ")\n",
    "X = preprocessor.fit_transform(data)\n",
    "print(pd.DataFrame(X, columns=preprocessor.get_feature_names_out(data.columns)).head())"
   ]
  },
  {
   "cell_type": "code",
   "execution_count": 29,
   "id": "6bbfe5df",
   "metadata": {},
   "outputs": [],
   "source": [
    "# Step 4: Split the data into training and test sets, with \"Loan_Status\" as the target\n",
    "X_train, X_test, y_train, y_test = train_test_split(X, y, test_size=0.2, random_state=42)"
   ]
  },
  {
   "cell_type": "code",
   "execution_count": 30,
   "id": "5ab2fdb5",
   "metadata": {},
   "outputs": [],
   "source": [
    "# Step 5: Create a pipeline with Min-Max Scaler and KNN Classifier\n",
    "pipeline = Pipeline([\n",
    "    ('scaler', MinMaxScaler()),\n",
    "    ('model', KNeighborsClassifier())\n",
    "])"
   ]
  },
  {
   "cell_type": "code",
   "execution_count": 32,
   "id": "438d79d7",
   "metadata": {},
   "outputs": [
    {
     "name": "stdout",
     "output_type": "stream",
     "text": [
      "  Gender Married Dependents     Education Self_Employed  ApplicantIncome  \\\n",
      "1   Male     Yes          1      Graduate            No             4583   \n",
      "2   Male     Yes          0      Graduate           Yes             3000   \n",
      "3   Male     Yes          0  Not Graduate            No             2583   \n",
      "4   Male      No          0      Graduate            No             6000   \n",
      "5   Male     Yes          2      Graduate           Yes             5417   \n",
      "\n",
      "   CoapplicantIncome  LoanAmount  Loan_Amount_Term  Credit_History  \\\n",
      "1             1508.0       128.0             360.0             1.0   \n",
      "2                0.0        66.0             360.0             1.0   \n",
      "3             2358.0       120.0             360.0             1.0   \n",
      "4                0.0       141.0             360.0             1.0   \n",
      "5             4196.0       267.0             360.0             1.0   \n",
      "\n",
      "  Property_Area  \n",
      "1         Rural  \n",
      "2         Urban  \n",
      "3         Urban  \n",
      "4         Urban  \n",
      "5         Urban  \n"
     ]
    }
   ],
   "source": [
    "# Step 6: Fit the default KNN classifier to the data\n",
    "pipeline.fit(X_train, y_train)\n",
    "y_pred = pipeline.predict(X_test)\n",
    "accuracy_default = accuracy_score(y_test, y_pred)\n",
    "print(data.head())"
   ]
  },
  {
   "cell_type": "code",
   "execution_count": 33,
   "id": "3e14584b",
   "metadata": {},
   "outputs": [],
   "source": [
    "# Step 7: Create a search space for KNN\n",
    "param_grid_knn = {'model__n_neighbors': list(range(1, 11))}"
   ]
  },
  {
   "cell_type": "code",
   "execution_count": 34,
   "id": "4b64296d",
   "metadata": {},
   "outputs": [],
   "source": [
    "# Step 8: Fit a grid search with the pipeline for KNN\n",
    "grid_search_knn = GridSearchCV(pipeline, param_grid_knn, cv=5)\n",
    "grid_search_knn.fit(X_train, y_train)\n",
    "best_model_knn = grid_search_knn.best_estimator_\n",
    "y_pred_knn = best_model_knn.predict(X_test)\n",
    "accuracy_grid_search_knn = accuracy_score(y_test, y_pred_knn)"
   ]
  },
  {
   "cell_type": "code",
   "execution_count": 35,
   "id": "48c9f763",
   "metadata": {},
   "outputs": [],
   "source": [
    "# Step 9: Expand search space for Logistic Regression and Random Forest\n",
    "param_grid = [\n",
    "    {\n",
    "        'model': [LogisticRegression()],\n",
    "        'model__C': [0.001, 0.01, 0.1, 1, 10, 100]\n",
    "    },\n",
    "    {\n",
    "        'model': [RandomForestClassifier()],\n",
    "        'model__n_estimators': [10, 50, 100, 200]\n",
    "    }\n",
    "]"
   ]
  },
  {
   "cell_type": "code",
   "execution_count": 38,
   "id": "a0ef6346",
   "metadata": {},
   "outputs": [],
   "source": [
    "# Step 10: Fit a grid search with the expanded pipeline\n",
    "grid_search = GridSearchCV(pipeline, param_grid, cv=5)\n",
    "grid_search.fit(X_train, y_train)\n",
    "best_model = grid_search.best_estimator_\n",
    "y_pred_best = best_model.predict(X_test)\n",
    "accuracy_grid_search_best = accuracy_score(y_test, y_pred_best)"
   ]
  },
  {
   "cell_type": "code",
   "execution_count": 40,
   "id": "9d5ced43",
   "metadata": {},
   "outputs": [
    {
     "name": "stdout",
     "output_type": "stream",
     "text": [
      "Default Model Accuracy (KNN): 0.78125\n",
      "Grid Search Best KNN Model Accuracy: 0.7916666666666666\n",
      "Grid Search Best Model: LogisticRegression\n",
      "Grid Search Best Hyperparameters: LogisticRegression(C=10)\n",
      "Grid Search Best Model Accuracy: 0.8229166666666666\n"
     ]
    }
   ],
   "source": [
    "# Step 11: Summarize results\n",
    "print(\"Default Model Accuracy (KNN):\", accuracy_default)\n",
    "print(\"Grid Search Best KNN Model Accuracy:\", accuracy_grid_search_knn)\n",
    "print(\"Grid Search Best Model:\", best_model.named_steps['model'].__class__.__name__)\n",
    "print(\"Grid Search Best Hyperparameters:\", best_model.get_params()['model'])\n",
    "print(\"Grid Search Best Model Accuracy:\", accuracy_grid_search_best)"
   ]
  },
  {
   "cell_type": "markdown",
   "id": "db4c9408",
   "metadata": {},
   "source": [
    "In summary, the grid search with logistic regression as the best model and a regularization parameter (C) of 10 achieved the highest accuracy of approximately 82.29% on the test set, which is an improvement over the default KNN model's accuracy of 78.13%. The best model selected after grid search is a logistic regression model with C=10."
   ]
  },
  {
   "cell_type": "code",
   "execution_count": null,
   "id": "ee6459e2",
   "metadata": {},
   "outputs": [],
   "source": []
  }
 ],
 "metadata": {
  "kernelspec": {
   "display_name": "Python 3 (ipykernel)",
   "language": "python",
   "name": "python3"
  },
  "language_info": {
   "codemirror_mode": {
    "name": "ipython",
    "version": 3
   },
   "file_extension": ".py",
   "mimetype": "text/x-python",
   "name": "python",
   "nbconvert_exporter": "python",
   "pygments_lexer": "ipython3",
   "version": "3.10.9"
  }
 },
 "nbformat": 4,
 "nbformat_minor": 5
}
